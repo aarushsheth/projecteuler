{
 "cells": [
  {
   "attachments": {},
   "cell_type": "markdown",
   "metadata": {},
   "source": [
    "If the numbers 1 to 5 are written out in words: one, two, three, four, five, then there are 3 + 3 + 5 + 4 + 4 = 19 letters used in total. If the numbers\n",
    "1 to 1000 (one thousand) inclusive were written out in \n",
    "words, how many letters would be used? NOTE: Do not count spaces or hyphens. For example, 342(three hundred and forty-two) contains 23 letters and 115(one hundred and fifteen) contains 20 letters. The use of \"and\" when writing out numbers is in compliance with British usage."
   ]
  },
  {
   "cell_type": "code",
   "execution_count": 1,
   "metadata": {},
   "outputs": [
    {
     "name": "stdout",
     "output_type": "stream",
     "text": [
      "21124\n"
     ]
    }
   ],
   "source": [
    "def num_letters(n):\n",
    "    if n == 0:\n",
    "        return 0\n",
    "    elif n == 1 or n == 2 or n == 6 or n == 10:\n",
    "        return 3\n",
    "    elif n == 4 or n == 5 or n == 9:\n",
    "        return 4\n",
    "    elif n == 3 or n == 7 or n == 8 or n == 40 or n == 50 or n == 60:\n",
    "        return 5\n",
    "    elif n == 11 or n == 12 or n == 20 or n == 30 or n == 80 or n == 90:\n",
    "        return 6\n",
    "    elif n == 15 or n == 16 or n == 70:\n",
    "        return 7\n",
    "    elif n == 13 or n == 14 or n == 18 or n == 19:\n",
    "        return 8\n",
    "    elif n == 17:\n",
    "        return 9\n",
    "    elif n < 100:\n",
    "        return num_letters(n // 10 * 10) + num_letters(n % 10)\n",
    "    elif n < 1000:\n",
    "        if n % 100 == 0:\n",
    "            return num_letters(n // 100) + 7\n",
    "        else:\n",
    "            return num_letters(n // 100) + 10 + num_letters(n % 100)\n",
    "    else:\n",
    "        return 11\n",
    "\n",
    "total_letters = 0\n",
    "for i in range(1, 1001):\n",
    "    total_letters += num_letters(i)\n",
    "print(total_letters)"
   ]
  }
 ],
 "metadata": {
  "kernelspec": {
   "display_name": "Python 3",
   "language": "python",
   "name": "python3"
  },
  "language_info": {
   "codemirror_mode": {
    "name": "ipython",
    "version": 3
   },
   "file_extension": ".py",
   "mimetype": "text/x-python",
   "name": "python",
   "nbconvert_exporter": "python",
   "pygments_lexer": "ipython3",
   "version": "3.9.12"
  },
  "orig_nbformat": 4
 },
 "nbformat": 4,
 "nbformat_minor": 2
}
