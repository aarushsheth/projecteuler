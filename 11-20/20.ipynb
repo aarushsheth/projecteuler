{
 "cells": [
  {
   "attachments": {},
   "cell_type": "markdown",
   "metadata": {},
   "source": [
    "n! means n*(n-1)*...*3*2*1. For example, 10!=10*9*...*3*2*1=3628800, and the sum of the digits in the number 10! is 3+6+2+8+8+0+0=27.\n",
    " Find the sum of the digits in the number 100!"
   ]
  },
  {
   "cell_type": "code",
   "execution_count": 1,
   "metadata": {},
   "outputs": [
    {
     "name": "stdout",
     "output_type": "stream",
     "text": [
      "648\n"
     ]
    }
   ],
   "source": [
    "n = 100\n",
    "factorial = 1\n",
    "for i in range(2, n+1):\n",
    "    factorial *= i\n",
    "digit_sum = sum(int(digit) for digit in str(factorial))\n",
    "print(digit_sum)"
   ]
  }
 ],
 "metadata": {
  "kernelspec": {
   "display_name": "Python 3",
   "language": "python",
   "name": "python3"
  },
  "language_info": {
   "codemirror_mode": {
    "name": "ipython",
    "version": 3
   },
   "file_extension": ".py",
   "mimetype": "text/x-python",
   "name": "python",
   "nbconvert_exporter": "python",
   "pygments_lexer": "ipython3",
   "version": "3.9.12"
  },
  "orig_nbformat": 4
 },
 "nbformat": 4,
 "nbformat_minor": 2
}
