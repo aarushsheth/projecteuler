{
 "cells": [
  {
   "attachments": {},
   "cell_type": "markdown",
   "metadata": {},
   "source": [
    "A Pythagorean triplet is a set of three natural numbers, a < b < c, for which, \n",
    "\n",
    "a^2+b^2=c^2\n",
    "\n",
    "For example, 3^2+4^2=9+16=25=5^2\n",
    "\n",
    "There exists exactly one Pythagorean triplet for which a+b+c=1000. Find the product abc."
   ]
  },
  {
   "cell_type": "code",
   "execution_count": 1,
   "metadata": {},
   "outputs": [
    {
     "name": "stdout",
     "output_type": "stream",
     "text": [
      "31875000\n"
     ]
    }
   ],
   "source": [
    "def find_pythagorean_triplet():\n",
    "    for a in range(1, 1000):\n",
    "        for b in range(a + 1, 1000):\n",
    "            c = 1000 - a - b\n",
    "            if c > b:\n",
    "                if a**2 + b**2 == c**2:\n",
    "                    return a * b * c\n",
    "\n",
    "product = find_pythagorean_triplet()\n",
    "\n",
    "print(product)"
   ]
  }
 ],
 "metadata": {
  "kernelspec": {
   "display_name": "Python 3",
   "language": "python",
   "name": "python3"
  },
  "language_info": {
   "codemirror_mode": {
    "name": "ipython",
    "version": 3
   },
   "file_extension": ".py",
   "mimetype": "text/x-python",
   "name": "python",
   "nbconvert_exporter": "python",
   "pygments_lexer": "ipython3",
   "version": "3.9.12"
  },
  "orig_nbformat": 4
 },
 "nbformat": 4,
 "nbformat_minor": 2
}
