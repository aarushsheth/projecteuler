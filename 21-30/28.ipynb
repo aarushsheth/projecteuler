{
 "cells": [
  {
   "attachments": {},
   "cell_type": "markdown",
   "metadata": {},
   "source": [
    "\n",
    "Find the product of the coefficients, $a$ and $b$, for the quadratic expression that produces the maximum number of primes for consecutive values of $n$, starting with $n=0$.Starting with the number 1 and moving to the right in a clockwise direction a 5 by 5 spiral is formed as follows:\n",
    "$\\begin{array}{rrrrr}21 & 22 & 23 & 24 & 25 \\\\ 20 & 7 & 8 & 9 & 10 \\\\ 19 & 6 & 1 & 2 & 11 \\\\ 18 & 5 & 4 & 3 & 12 \\\\ 17 & 16 & 15 & 14 & 13\\end{array}$\n",
    "It can be verified that the sum of the numbers on the diagonals is 101.\n",
    "What is the sum of the numbers on the diagonals in a 1001 by 1001 spiral formed in the same way?\n",
    "\n"
   ]
  },
  {
   "cell_type": "code",
   "execution_count": 2,
   "metadata": {},
   "outputs": [
    {
     "name": "stdout",
     "output_type": "stream",
     "text": [
      "669171001\n"
     ]
    }
   ],
   "source": [
    "def sum_spiral_diagonals(size):\n",
    "    if size == 1:\n",
    "        return 1\n",
    "\n",
    "    current_num = 1\n",
    "    diagonal_sum = 1\n",
    "    side_length = 3\n",
    "\n",
    "    while side_length <= size:\n",
    "        for _ in range(4):\n",
    "            current_num += side_length - 1\n",
    "            diagonal_sum += current_num\n",
    "\n",
    "        side_length += 2\n",
    "\n",
    "    return diagonal_sum\n",
    "spiral_size = 1001\n",
    "diagonal_sum = sum_spiral_diagonals(spiral_size)\n",
    "print( diagonal_sum)\n"
   ]
  }
 ],
 "metadata": {
  "kernelspec": {
   "display_name": "Python 3",
   "language": "python",
   "name": "python3"
  },
  "language_info": {
   "codemirror_mode": {
    "name": "ipython",
    "version": 3
   },
   "file_extension": ".py",
   "mimetype": "text/x-python",
   "name": "python",
   "nbconvert_exporter": "python",
   "pygments_lexer": "ipython3",
   "version": "3.9.12"
  },
  "orig_nbformat": 4
 },
 "nbformat": 4,
 "nbformat_minor": 2
}
