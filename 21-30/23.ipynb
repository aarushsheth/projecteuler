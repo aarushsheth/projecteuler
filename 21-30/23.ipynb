{
 "cells": [
  {
   "attachments": {},
   "cell_type": "markdown",
   "metadata": {},
   "source": [
    "A perfect number is a number for which the sum of its proper divisors is exactly equal to the number. For example, the sum of the proper divisors \n",
    "of 28 would be 1 + 2 + 4 + 7 + 14 = 28, which means that 28 is a perfect number. A number n is called deficient if the sum of its proper divisors\n",
    "is less than n and it is called abundant if this sum exceeds n. As 12 is the smallest abundant number, 1 + 2 + 3 + 4 + 6 = 16,\n",
    "the smallest number that can be written as the sum of two abundant numbers is 24/\n",
    ". By mathematical analysis, it can be shown that all integers greater than 28123\n",
    " can be written as the sum of two abundant numbers. However, this upper limit cannot be reduced any further by analysis even though it is known that the greatest number that cannot be expressed as the sum of two abundant numbers is less than this limit.\n",
    "\n",
    "Find the sum of all the positive integers which cannot be written as the sum of two abundant numbers."
   ]
  },
  {
   "cell_type": "code",
   "execution_count": 1,
   "metadata": {},
   "outputs": [
    {
     "name": "stdout",
     "output_type": "stream",
     "text": [
      "4179871\n"
     ]
    }
   ],
   "source": [
    "def proper_divisors(n):\n",
    "    return [i for i in range(1, n) if n % i == 0]\n",
    "\n",
    "def is_abundant(n):\n",
    "    return sum(proper_divisors(n)) > n\n",
    "\n",
    "abundant_numbers = [i for i in range(1, 28124) if is_abundant(i)]\n",
    "sum_of_abundant_pairs = set()\n",
    "for i in range(len(abundant_numbers)):\n",
    "    for j in range(i, len(abundant_numbers)):\n",
    "        if abundant_numbers[i] + abundant_numbers[j] > 28123:\n",
    "            break\n",
    "        sum_of_abundant_pairs.add(abundant_numbers[i] + abundant_numbers[j])\n",
    "non_abundant_sums = set(range(1, 28124)) - sum_of_abundant_pairs\n",
    "print(sum(non_abundant_sums))"
   ]
  }
 ],
 "metadata": {
  "kernelspec": {
   "display_name": "Python 3",
   "language": "python",
   "name": "python3"
  },
  "language_info": {
   "codemirror_mode": {
    "name": "ipython",
    "version": 3
   },
   "file_extension": ".py",
   "mimetype": "text/x-python",
   "name": "python",
   "nbconvert_exporter": "python",
   "pygments_lexer": "ipython3",
   "version": "3.9.12"
  },
  "orig_nbformat": 4
 },
 "nbformat": 4,
 "nbformat_minor": 2
}
