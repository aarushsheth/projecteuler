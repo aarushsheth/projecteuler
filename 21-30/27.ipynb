{
 "cells": [
  {
   "attachments": {},
   "cell_type": "markdown",
   "metadata": {},
   "source": [
    "Euler discovered the remarkable quadratic formula:\n",
    "$$\n",
    "n^2+n+41\n",
    "$$\n",
    "It turns out that the formula will produce 40 primes for the consecutive integer values $0 \\leq n \\leq 39$. However, when $n=40,40^2+40+41=40(40+1)+41$ is divisible by 41 , and certainly when $n=41,41^2+41+41$ is clearly divisible by 41.\n",
    "The incredible formula $n^2-79 n+1601$ was discovered, which produces 80 primes for the consecutive values $0 \\leq n \\leq 79$. The product of the coefficients, -79 and 1601 , is -126479 .\n",
    "Considering quadratics of the form:\n",
    "$$\n",
    "n^2+a n+b, \\text { where }|a|<1000 \\text { and }|b| \\leq 1000\n",
    "$$\n",
    "where $|n|$ is the modulus/absolute value of $n$\n",
    "$$\n",
    "\\text { e.g. }|11|=11 \\text { and }|-4|=4\n",
    "$$\n",
    "Find the product of the coefficients, $a$ and $b$, for the quadratic expression that produces the maximum number of primes for consecutive values of $n$, starting with $n=0$.\n"
   ]
  },
  {
   "cell_type": "code",
   "execution_count": 1,
   "metadata": {},
   "outputs": [
    {
     "name": "stdout",
     "output_type": "stream",
     "text": [
      "-59231\n"
     ]
    }
   ],
   "source": [
    "def is_prime(n):\n",
    "    if n <= 1:\n",
    "        return False\n",
    "    if n <= 3:\n",
    "        return True\n",
    "    if n % 2 == 0 or n % 3 == 0:\n",
    "        return False\n",
    "    i = 5\n",
    "    while i * i <= n:\n",
    "        if n % i == 0 or n % (i + 2) == 0:\n",
    "            return False\n",
    "        i += 6\n",
    "    return True\n",
    "max_consecutive_primes = 0\n",
    "product_of_coefficients = 0\n",
    "\n",
    "for a in range(-999, 1000):\n",
    "    for b in range(-1000, 1001):\n",
    "        n = 0\n",
    "        consecutive_primes = 0\n",
    "\n",
    "        while is_prime(n**2 + a*n + b):\n",
    "            consecutive_primes += 1\n",
    "            n += 1\n",
    "\n",
    "        if consecutive_primes > max_consecutive_primes:\n",
    "            max_consecutive_primes = consecutive_primes\n",
    "            product_of_coefficients = a * b\n",
    "\n",
    "print(product_of_coefficients)\n",
    "\n"
   ]
  }
 ],
 "metadata": {
  "kernelspec": {
   "display_name": "Python 3",
   "language": "python",
   "name": "python3"
  },
  "language_info": {
   "codemirror_mode": {
    "name": "ipython",
    "version": 3
   },
   "file_extension": ".py",
   "mimetype": "text/x-python",
   "name": "python",
   "nbconvert_exporter": "python",
   "pygments_lexer": "ipython3",
   "version": "3.9.12"
  },
  "orig_nbformat": 4
 },
 "nbformat": 4,
 "nbformat_minor": 2
}
