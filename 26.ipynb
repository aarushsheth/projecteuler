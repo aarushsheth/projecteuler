{
 "cells": [
  {
   "attachments": {},
   "cell_type": "markdown",
   "metadata": {},
   "source": [
    "A unit fraction contains 1 in the numerator. The decimal representation of the unit fractions with denominators 2 to 10 are given:\n",
    "1/2\t= \t0.5\n",
    "1/3\t= \t0.(3)\n",
    "1/4\t= \t0.25\n",
    "1/5\t= \t0.2\n",
    "1/6\t= \t0.1(6)\n",
    "1/7\t= \t0.(142857)\n",
    "1/8\t= \t0.125\n",
    "1/9\t= \t0.(1)\n",
    "1/10\t= \t0.1\n",
    "Where 0.1(6) means 0.166666..., and has a 1-digit recurring cycle. It can be seen that 1/7 has a 6-digit recurring cycle. Find the value of d < 1000 for which 1/d contains the longest recurring cycle in its decimal fraction part.\n"
   ]
  },
  {
   "cell_type": "code",
   "execution_count": 1,
   "metadata": {},
   "outputs": [
    {
     "name": "stdout",
     "output_type": "stream",
     "text": [
      "983\n"
     ]
    }
   ],
   "source": [
    "def recurring_cycle_length(n):\n",
    "    remainders = {}\n",
    "    remainder = 1\n",
    "    i = 0\n",
    "    while remainder not in remainders and remainder != 0:\n",
    "        remainders[remainder] = i\n",
    "        remainder = (remainder * 10) % n\n",
    "        i += 1\n",
    "    if remainder == 0:\n",
    "        return 0\n",
    "    else:\n",
    "        return i - remainders[remainder]\n",
    "\n",
    "longest_cycle = 0\n",
    "d = 0\n",
    "for i in range(2, 1000):\n",
    "    cycle_length = recurring_cycle_length(i)\n",
    "    if cycle_length > longest_cycle:\n",
    "        longest_cycle = cycle_length\n",
    "        d = i\n",
    "\n",
    "print(d)"
   ]
  }
 ],
 "metadata": {
  "kernelspec": {
   "display_name": "Python 3",
   "language": "python",
   "name": "python3"
  },
  "language_info": {
   "codemirror_mode": {
    "name": "ipython",
    "version": 3
   },
   "file_extension": ".py",
   "mimetype": "text/x-python",
   "name": "python",
   "nbconvert_exporter": "python",
   "pygments_lexer": "ipython3",
   "version": "3.9.12"
  },
  "orig_nbformat": 4
 },
 "nbformat": 4,
 "nbformat_minor": 2
}
